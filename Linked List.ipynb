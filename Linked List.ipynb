{
 "cells": [
  {
   "cell_type": "markdown",
   "id": "3c71513b-1c61-4cd2-8dbc-906478a66134",
   "metadata": {},
   "source": [
    "### Linked List"
   ]
  },
  {
   "cell_type": "code",
   "execution_count": 54,
   "id": "c629dc66-8420-4369-8ffa-09c7bf7bad12",
   "metadata": {},
   "outputs": [],
   "source": [
    "# linked list \n",
    "\n",
    "class Node:\n",
    "    def __init__(self, data=None, next=None):\n",
    "        self.data = data\n",
    "        self.next = next   # ✅ correct attribute name\n",
    "\n",
    "class LinkedList:\n",
    "    def __init__(self):\n",
    "        self.head = None\n",
    "\n",
    "    # 1st fxn insert at begining\n",
    "    def insert_at_begin(self, data):\n",
    "        # Create a new node whose next points to the current head\n",
    "        node = Node(data, self.head)\n",
    "        self.head = node   # move head to the new node\n",
    "        \n",
    "        # 2nd fxn insert at the end\n",
    "    def insert_at_end(self, data):\n",
    "        if self.head is None:\n",
    "            self.head = Node(data, None)\n",
    "            return\n",
    "    \n",
    "        itr = self.head\n",
    "        while itr.next:   # move until last node\n",
    "            itr = itr.next\n",
    "        itr.next = Node(data, None)\n",
    "\n",
    "      # 3rd fxn insert values instead of numbers \n",
    "    def insert_values(self,data_list) :\n",
    "        self.head = None\n",
    "        for data in data_list :\n",
    "            self.insert_at_end(data) # we are using fxn insert_at_end that we made earlier\n",
    "            \n",
    "        \n",
    "\n",
    "    # 4th fxn, get the count of nodes\n",
    "    def get_length(self) :\n",
    "        count = 0\n",
    "        itr = self.head\n",
    "        while itr :\n",
    "            count+=1\n",
    "            itr = itr.next\n",
    "\n",
    "        return count\n",
    "        \n",
    "    # 5th fxn, removing index\n",
    "    def remove_at(self,index) :\n",
    "\n",
    "        # For invalid Indexes\n",
    "        if index < 0 or index > self.get_length():\n",
    "            raise Exception(\"Invalid Index\")\n",
    "\n",
    "        # For removing head\n",
    "        if index == 0:\n",
    "            # Just move the head to the next node\n",
    "            self.head = self.head.next\n",
    "            return\n",
    "\n",
    "        # Removing normal elements\n",
    "        count = 0\n",
    "        itr = self.head\n",
    "        while itr:\n",
    "            # Now Here, You have to stop prior to the element you have to delete, and then delete the next node's add, and instead make it point to\n",
    "            # the further next Node\n",
    "            if count == index - 1 :\n",
    "                itr.next = itr.next.next\n",
    "            itr = itr.next\n",
    "            count += 1\n",
    "\n",
    "    # 6th fxn, to insert a figure at a particular location\n",
    "    def insert_at(self,index,figure):\n",
    "        # handle exceptions\n",
    "        if index < 0 or index >= self.get_length() :\n",
    "            raise Exception('Invalid Index')\n",
    "            \n",
    "        # To insert value in the head\n",
    "        if index == 0:\n",
    "            self.insert_at_begin(figure)\n",
    "            return\n",
    "            \n",
    "        count = 0\n",
    "        itr = self.head\n",
    "        while itr:\n",
    "            if count == index - 1: # Stopping at the previous element, as we have to modify the prev and further next Node\n",
    "                node = Node(figure,itr.next) # data = figure, Next node = itr.next,\n",
    "                itr.next = node\n",
    "                break\n",
    "                \n",
    "            itr = itr.next\n",
    "            count +=1\n",
    "\n",
    "\n",
    "\n",
    "    # 7th fxn, print LinkedList\n",
    "    def print(self):\n",
    "        itr = self.head\n",
    "        llstr = ''\n",
    "        while itr:   # loop until we reach the end\n",
    "            llstr += str(itr.data) + ' ---------> '\n",
    "            itr = itr.next\n",
    "        print(llstr if llstr else \"Empty list\")\n",
    "\n",
    "\n",
    "\n",
    "    "
   ]
  },
  {
   "cell_type": "code",
   "execution_count": 55,
   "id": "a42c3288-d340-4193-b8f6-6919f2ef4a06",
   "metadata": {},
   "outputs": [
    {
     "name": "stdout",
     "output_type": "stream",
     "text": [
      "38 ---------> 36 ---------> 34 ---------> \n"
     ]
    }
   ],
   "source": [
    "# after 1st,eg\n",
    "\n",
    "if __name__ == \"__main__\" :\n",
    "    lm = LinkedList()\n",
    "    lm.insert_at_begin(34)\n",
    "    lm.insert_at_begin(36)\n",
    "    lm.insert_at_begin(38)\n",
    "\n",
    "    lm.print()"
   ]
  },
  {
   "cell_type": "code",
   "execution_count": 56,
   "id": "422c01bd-3de1-4bd1-b0e1-96397448ed49",
   "metadata": {},
   "outputs": [
    {
     "name": "stdout",
     "output_type": "stream",
     "text": [
      "14 ---------> 13 ---------> 12 ---------> 38 ---------> 36 ---------> 34 ---------> \n"
     ]
    }
   ],
   "source": [
    "# after 2nd,eg\n",
    "lm.insert_at_begin(12)\n",
    "lm.insert_at_begin(13)\n",
    "lm.insert_at_begin(14)\n",
    "lm.print()"
   ]
  },
  {
   "cell_type": "code",
   "execution_count": 57,
   "id": "e37ec928-68ae-4878-bd44-9bfc2cb1b2c7",
   "metadata": {},
   "outputs": [
    {
     "data": {
      "text/plain": [
       "6"
      ]
     },
     "execution_count": 57,
     "metadata": {},
     "output_type": "execute_result"
    }
   ],
   "source": [
    "lm.get_length()"
   ]
  },
  {
   "cell_type": "code",
   "execution_count": 59,
   "id": "a050ba0b-a7fc-4d48-a6e5-a2f1ab63f3b5",
   "metadata": {},
   "outputs": [
    {
     "name": "stdout",
     "output_type": "stream",
     "text": [
      "apple ---------> strawberry ---------> kiwi ---------> guava ---------> figs ---------> \n"
     ]
    },
    {
     "data": {
      "text/plain": [
       "5"
      ]
     },
     "execution_count": 59,
     "metadata": {},
     "output_type": "execute_result"
    }
   ],
   "source": [
    "# After 3rd \n",
    "\n",
    "lm.insert_values(['apple','strawberry','kiwi','guava','figs'])\n",
    "lm.print()\n",
    "lm.get_length()"
   ]
  },
  {
   "cell_type": "code",
   "execution_count": 60,
   "id": "657835de-c0ec-45ac-8edb-34c513366ef3",
   "metadata": {},
   "outputs": [
    {
     "name": "stdout",
     "output_type": "stream",
     "text": [
      "apple ---------> kiwi ---------> guava ---------> figs ---------> \n"
     ]
    }
   ],
   "source": [
    "lm.remove_at(1)\n",
    "lm.print()"
   ]
  },
  {
   "cell_type": "code",
   "execution_count": 61,
   "id": "9a1de97a-749e-4014-9059-ab0d92880c0c",
   "metadata": {},
   "outputs": [],
   "source": [
    "lm.insert_at(2,\"melon\")"
   ]
  },
  {
   "cell_type": "code",
   "execution_count": 62,
   "id": "6cfad23b-17df-4737-8842-9daf370717da",
   "metadata": {},
   "outputs": [
    {
     "name": "stdout",
     "output_type": "stream",
     "text": [
      "apple ---------> kiwi ---------> melon ---------> guava ---------> figs ---------> \n"
     ]
    }
   ],
   "source": [
    "lm.print()"
   ]
  },
  {
   "cell_type": "markdown",
   "id": "13bbd17c-3526-49c2-a4d2-25fe58d519aa",
   "metadata": {},
   "source": [
    "What is __init __?\n",
    "\n",
    "It’s the constructor method in Python classes.\n",
    "\n",
    "Runs automatically every time you create an object of that class.\n",
    "\n",
    "Used to initialize attributes (variables) for the object.\n",
    "\n",
    "🔹 What is self?\n",
    "\n",
    "self is just a reference to the current object being created.\n",
    "\n",
    "When you write self.x = 10, it means: “store the value 10 in the attribute x of this object.”"
   ]
  },
  {
   "cell_type": "markdown",
   "id": "543809d1-3f32-441d-b2b8-5d139703214d",
   "metadata": {},
   "source": [
    "- Why the new element you insert becams the head ?\n",
    "\n",
    "\n",
    "Because you’re always inserting at the beginning, so the newest element goes in front of the older ones.\n",
    "\n",
    "That’s why 500 (last inserted) ends up at the head, and 34 (first inserted) gets pushed to the tail.\n",
    "\n",
    "- also,\n",
    "\n",
    "insert_at_begin → list grows in reverse order.\n",
    "\n",
    "insert_at_end → list grows in same order you add elements."
   ]
  },
  {
   "cell_type": "code",
   "execution_count": 5,
   "id": "35bc0ffd-ea65-4d29-945a-91bab289ca9f",
   "metadata": {},
   "outputs": [],
   "source": [
    "# IN Insert_at_end "
   ]
  },
  {
   "cell_type": "code",
   "execution_count": 6,
   "id": "b85a4ad2-2063-4a1e-aef9-6d5e07d16207",
   "metadata": {},
   "outputs": [],
   "source": [
    "# aaaaah,so the while loop is to reach the last node so we can insert a new loop at the end, right ?"
   ]
  },
  {
   "cell_type": "markdown",
   "id": "8d831f87-d3f5-4cca-8a0d-700b7edf90f0",
   "metadata": {},
   "source": [
    "Yessss broski 🤝 you got it exactly!\n",
    "\n",
    "The while loop is literally just a way to walk through the list until you find the last node (the one where .next is None).\n",
    "\n",
    "Once you’re at that last node → you attach the new node to its .next.\n",
    "\n",
    "So in short:\n",
    "\n",
    "while itr.next: → keep moving until there’s no next node.\n",
    "\n",
    "After the loop ends → itr is the last node.\n",
    "\n",
    "Then → itr.next = Node(data, None) sticks the new node at the end.\n",
    "\n",
    "⚡ Without the while loop, you’d never be able to “travel” through the linked list, because unlike arrays, linked lists don’t have indexes — you can only move from one node to the next."
   ]
  },
  {
   "cell_type": "code",
   "execution_count": null,
   "id": "038656b7-4ca6-4c1b-b97a-3a8a1f5aa7fc",
   "metadata": {},
   "outputs": [],
   "source": []
  }
 ],
 "metadata": {
  "kernelspec": {
   "display_name": "Python 3 (ipykernel)",
   "language": "python",
   "name": "python3"
  },
  "language_info": {
   "codemirror_mode": {
    "name": "ipython",
    "version": 3
   },
   "file_extension": ".py",
   "mimetype": "text/x-python",
   "name": "python",
   "nbconvert_exporter": "python",
   "pygments_lexer": "ipython3",
   "version": "3.12.7"
  }
 },
 "nbformat": 4,
 "nbformat_minor": 5
}
